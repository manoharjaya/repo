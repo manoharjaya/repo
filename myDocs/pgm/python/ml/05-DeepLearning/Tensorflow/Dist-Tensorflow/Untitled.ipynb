{
 "cells": [
  {
   "cell_type": "code",
   "execution_count": 1,
   "metadata": {},
   "outputs": [
    {
     "name": "stdout",
     "output_type": "stream",
     "text": [
      "tcp        0      0 127.0.0.1:50460         0.0.0.0:*               LISTEN      4043/python         \r\n",
      "tcp        0      0 127.0.0.1:42653         0.0.0.0:*               LISTEN      4043/python         \r\n",
      "tcp        0      0 127.0.0.1:59327         0.0.0.0:*               LISTEN      4043/python         \r\n",
      "tcp        0      0 127.0.0.1:43786         0.0.0.0:*               LISTEN      4043/python         \r\n",
      "tcp        0      0 127.0.0.1:49578         0.0.0.0:*               LISTEN      4043/python         \r\n",
      "tcp        0      0 127.0.0.1:8888          0.0.0.0:*               LISTEN      23742/python        \r\n",
      "tcp        0      0 127.0.0.1:59194         0.0.0.0:*               LISTEN      4043/python         \r\n",
      "tcp6       0      0 ::1:8888                :::*                    LISTEN      23742/python        \r\n"
     ]
    }
   ],
   "source": [
    "!netstat -tnlp | grep python"
   ]
  },
  {
   "cell_type": "code",
   "execution_count": 2,
   "metadata": {},
   "outputs": [
    {
     "name": "stderr",
     "output_type": "stream",
     "text": [
      "/nfs/anaconda2/lib/python2.7/site-packages/h5py/__init__.py:36: FutureWarning: Conversion of the second argument of issubdtype from `float` to `np.floating` is deprecated. In future, it will be treated as `np.float64 == np.dtype(float).type`.\n",
      "  from ._conv import register_converters as _register_converters\n"
     ]
    }
   ],
   "source": [
    "import tensorflow as tf"
   ]
  },
  {
   "cell_type": "code",
   "execution_count": 3,
   "metadata": {},
   "outputs": [],
   "source": [
    "cluster_spec = tf.train.ClusterSpec({'worker' : ['localhost:2223'], 'ps' : ['localhost:2222']})"
   ]
  }
 ],
 "metadata": {
  "kernelspec": {
   "display_name": "Python 2",
   "language": "python",
   "name": "python2"
  },
  "language_info": {
   "codemirror_mode": {
    "name": "ipython",
    "version": 2
   },
   "file_extension": ".py",
   "mimetype": "text/x-python",
   "name": "python",
   "nbconvert_exporter": "python",
   "pygments_lexer": "ipython2",
   "version": "2.7.15"
  }
 },
 "nbformat": 4,
 "nbformat_minor": 2
}
