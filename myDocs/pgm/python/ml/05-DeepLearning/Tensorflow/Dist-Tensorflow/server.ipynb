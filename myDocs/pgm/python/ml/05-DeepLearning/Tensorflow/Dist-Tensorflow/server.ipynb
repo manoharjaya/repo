{
 "cells": [
  {
   "cell_type": "code",
   "execution_count": 1,
   "metadata": {},
   "outputs": [
    {
     "name": "stderr",
     "output_type": "stream",
     "text": [
      "/nfs/anaconda2/lib/python2.7/site-packages/h5py/__init__.py:36: FutureWarning: Conversion of the second argument of issubdtype from `float` to `np.floating` is deprecated. In future, it will be treated as `np.float64 == np.dtype(float).type`.\n",
      "  from ._conv import register_converters as _register_converters\n"
     ]
    }
   ],
   "source": [
    "import tensorflow as tf"
   ]
  },
  {
   "cell_type": "code",
   "execution_count": 2,
   "metadata": {},
   "outputs": [
    {
     "data": {
      "text/plain": [
       "'1.4.0'"
      ]
     },
     "execution_count": 2,
     "metadata": {},
     "output_type": "execute_result"
    }
   ],
   "source": [
    "tf.__version__"
   ]
  },
  {
   "cell_type": "code",
   "execution_count": 3,
   "metadata": {},
   "outputs": [
    {
     "name": "stdout",
     "output_type": "stream",
     "text": [
      "manohar\n"
     ]
    }
   ],
   "source": [
    "print 'manohar'"
   ]
  },
  {
   "cell_type": "code",
   "execution_count": 4,
   "metadata": {},
   "outputs": [],
   "source": [
    "cluster_spec = tf.train.ClusterSpec({'worker' : ['localhost:2222']})\n",
    "server = tf.train.Server(cluster_spec)"
   ]
  },
  {
   "cell_type": "code",
   "execution_count": 5,
   "metadata": {},
   "outputs": [
    {
     "data": {
      "text/plain": [
       "'grpc://localhost:2222'"
      ]
     },
     "execution_count": 5,
     "metadata": {},
     "output_type": "execute_result"
    }
   ],
   "source": [
    "server.target"
   ]
  },
  {
   "cell_type": "code",
   "execution_count": 15,
   "metadata": {},
   "outputs": [
    {
     "name": "stdout",
     "output_type": "stream",
     "text": [
      "tcp        0      0 127.0.0.1:59933         0.0.0.0:*               LISTEN      25620/python        \r\n",
      "tcp        0      0 127.0.0.1:34629         0.0.0.0:*               LISTEN      25620/python        \r\n",
      "tcp        0      0 127.0.0.1:53612         0.0.0.0:*               LISTEN      25620/python        \r\n",
      "tcp        0      0 127.0.0.1:42444         0.0.0.0:*               LISTEN      25620/python        \r\n",
      "tcp        0      0 127.0.0.1:36053         0.0.0.0:*               LISTEN      25620/python        \r\n",
      "tcp        0      0 127.0.0.1:39256         0.0.0.0:*               LISTEN      25620/python        \r\n",
      "tcp        0      0 127.0.0.1:8888          0.0.0.0:*               LISTEN      23742/python        \r\n",
      "tcp6       0      0 :::2222                 :::*                    LISTEN      25620/python        \r\n",
      "tcp6       0      0 ::1:8888                :::*                    LISTEN      23742/python        \r\n"
     ]
    }
   ],
   "source": [
    "\n",
    "!netstat -tnlp | grep python\n"
   ]
  },
  {
   "cell_type": "code",
   "execution_count": 16,
   "metadata": {},
   "outputs": [
    {
     "data": {
      "text/plain": [
       "cluster {\n",
       "  job {\n",
       "    name: \"worker\"\n",
       "    tasks {\n",
       "      value: \"localhost:2222\"\n",
       "    }\n",
       "  }\n",
       "}\n",
       "job_name: \"worker\"\n",
       "protocol: \"grpc\""
      ]
     },
     "execution_count": 16,
     "metadata": {},
     "output_type": "execute_result"
    }
   ],
   "source": [
    "server.server_def"
   ]
  },
  {
   "cell_type": "code",
   "execution_count": 17,
   "metadata": {},
   "outputs": [],
   "source": [
    "sess = tf.Session(target=server.target)"
   ]
  },
  {
   "cell_type": "code",
   "execution_count": 18,
   "metadata": {},
   "outputs": [],
   "source": [
    "server = tf.train.Server.create_local_server()"
   ]
  },
  {
   "cell_type": "code",
   "execution_count": 22,
   "metadata": {},
   "outputs": [
    {
     "name": "stdout",
     "output_type": "stream",
     "text": [
      "tcp        0      0 127.0.0.1:59933         0.0.0.0:*               LISTEN      25620/python        \r\n",
      "tcp        0      0 127.0.0.1:34629         0.0.0.0:*               LISTEN      25620/python        \r\n",
      "tcp        0      0 127.0.0.1:53612         0.0.0.0:*               LISTEN      25620/python        \r\n",
      "tcp        0      0 127.0.0.1:42444         0.0.0.0:*               LISTEN      25620/python        \r\n",
      "tcp        0      0 127.0.0.1:36053         0.0.0.0:*               LISTEN      25620/python        \r\n",
      "tcp        0      0 127.0.0.1:39256         0.0.0.0:*               LISTEN      25620/python        \r\n",
      "tcp        0      0 127.0.0.1:8888          0.0.0.0:*               LISTEN      23742/python        \r\n",
      "tcp6       0      0 :::36456                :::*                    LISTEN      25620/python        \r\n",
      "tcp6       0      0 :::2222                 :::*                    LISTEN      25620/python        \r\n",
      "tcp6       0      0 ::1:8888                :::*                    LISTEN      23742/python        \r\n"
     ]
    }
   ],
   "source": [
    "!netstat -tnlp |  grep python"
   ]
  },
  {
   "cell_type": "code",
   "execution_count": 23,
   "metadata": {},
   "outputs": [
    {
     "name": "stdout",
     "output_type": "stream",
     "text": [
      "/job:worker/replica:0/task:0/device:CPU:0\n"
     ]
    }
   ],
   "source": [
    "devices = sess.list_devices()\n",
    "for d in devices:\n",
    "    print(d.name)"
   ]
  },
  {
   "cell_type": "code",
   "execution_count": 24,
   "metadata": {},
   "outputs": [],
   "source": [
    "sess.close()"
   ]
  }
 ],
 "metadata": {
  "kernelspec": {
   "display_name": "Python 2",
   "language": "python",
   "name": "python2"
  },
  "language_info": {
   "codemirror_mode": {
    "name": "ipython",
    "version": 2
   },
   "file_extension": ".py",
   "mimetype": "text/x-python",
   "name": "python",
   "nbconvert_exporter": "python",
   "pygments_lexer": "ipython2",
   "version": "2.7.15"
  }
 },
 "nbformat": 4,
 "nbformat_minor": 2
}
