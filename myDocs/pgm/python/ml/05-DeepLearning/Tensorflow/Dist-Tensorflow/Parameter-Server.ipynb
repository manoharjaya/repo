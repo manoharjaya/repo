{
 "cells": [
  {
   "cell_type": "code",
   "execution_count": 1,
   "metadata": {},
   "outputs": [
    {
     "name": "stderr",
     "output_type": "stream",
     "text": [
      "/nfs/anaconda2/lib/python2.7/site-packages/h5py/__init__.py:36: FutureWarning: Conversion of the second argument of issubdtype from `float` to `np.floating` is deprecated. In future, it will be treated as `np.float64 == np.dtype(float).type`.\n",
      "  from ._conv import register_converters as _register_converters\n"
     ]
    }
   ],
   "source": [
    "import tensorflow as tf"
   ]
  },
  {
   "cell_type": "code",
   "execution_count": 3,
   "metadata": {},
   "outputs": [
    {
     "name": "stdout",
     "output_type": "stream",
     "text": [
      "tcp        0      0 127.0.0.1:58850         0.0.0.0:*               LISTEN      2085/python         \r\n",
      "tcp        0      0 127.0.0.1:6023          0.0.0.0:*               LISTEN      3566/python         \r\n",
      "tcp        0      0 127.0.0.1:32874         0.0.0.0:*               LISTEN      2085/python         \r\n",
      "tcp        0      0 127.0.0.1:38443         0.0.0.0:*               LISTEN      2085/python         \r\n",
      "tcp        0      0 127.0.0.1:46062         0.0.0.0:*               LISTEN      2085/python         \r\n",
      "tcp        0      0 127.0.0.1:46065         0.0.0.0:*               LISTEN      2085/python         \r\n",
      "tcp        0      0 127.0.0.1:8888          0.0.0.0:*               LISTEN      534/python          \r\n",
      "tcp        0      0 127.0.0.1:34009         0.0.0.0:*               LISTEN      2085/python         \r\n",
      "tcp6       0      0 ::1:8888                :::*                    LISTEN      534/python          \r\n"
     ]
    }
   ],
   "source": [
    "!netstat -tnlp | grep python"
   ]
  },
  {
   "cell_type": "code",
   "execution_count": null,
   "metadata": {},
   "outputs": [],
   "source": [
    "cluster_spec = tf.train.ClusterSpec({'worker' : ['localhost:2225'], 'ps' : ['localhost:2226']})\n",
    "ps = tf.train.Server(cluster_spec,job_name='ps')\n",
    "ps.join()\n",
    "!netstat -tnlp | grep python"
   ]
  }
 ],
 "metadata": {
  "kernelspec": {
   "display_name": "Python 2",
   "language": "python",
   "name": "python2"
  },
  "language_info": {
   "codemirror_mode": {
    "name": "ipython",
    "version": 2
   },
   "file_extension": ".py",
   "mimetype": "text/x-python",
   "name": "python",
   "nbconvert_exporter": "python",
   "pygments_lexer": "ipython2",
   "version": "2.7.15"
  }
 },
 "nbformat": 4,
 "nbformat_minor": 2
}
